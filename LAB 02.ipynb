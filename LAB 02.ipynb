{
 "cells": [
  {
   "cell_type": "code",
   "execution_count": 1,
   "metadata": {},
   "outputs": [
    {
     "name": "stdout",
     "output_type": "stream",
     "text": [
      "10 is an even number.\n"
     ]
    }
   ],
   "source": [
    "# To check if a number is even or odd\n",
    "x = 10\n",
    "\n",
    "if x % 2 == 0:\n",
    "    print(str(x) + \" is an even number.\")\n",
    "else:\n",
    "    print(str(x) + \" is an odd number.\")"
   ]
  },
  {
   "cell_type": "code",
   "execution_count": 2,
   "metadata": {},
   "outputs": [
    {
     "name": "stdout",
     "output_type": "stream",
     "text": [
      "1900 is not a leap year.\n"
     ]
    }
   ],
   "source": [
    "# To check if a given year is leap year\n",
    "year = 1900\n",
    "\n",
    "if year % 400 == 0:\n",
    "    print(str(year) + \" is a leap year.\")\n",
    "else:\n",
    "    if year % 100 == 0:\n",
    "        print(str(year) + \" is not a leap year.\")\n",
    "    elif year % 4 == 0:\n",
    "        print(str(year) + \" is a leap year.\")\n",
    "    else:\n",
    "        print(str(year) + \" is not a leap year.\")\n"
   ]
  },
  {
   "cell_type": "code",
   "execution_count": 3,
   "metadata": {},
   "outputs": [
    {
     "name": "stdout",
     "output_type": "stream",
     "text": [
      "c is a consonant\n"
     ]
    }
   ],
   "source": [
    "# To check if a char is consonant or vowel\n",
    "char = 'C'\n",
    "\n",
    "if char.isupper():\n",
    "    char = char.lower()\n",
    "\n",
    "if char == 'a':\n",
    "    print(char + \" is a vowel\")\n",
    "elif char == 'e':\n",
    "    print(char + \" is a vowel\")\n",
    "elif char == 'i':\n",
    "    print(char + \" is a vowel\")\n",
    "elif char == 'o':\n",
    "    print(char + \" is a vowel\")\n",
    "elif char == 'u':\n",
    "    print(char + \" is a vowel\")\n",
    "else:\n",
    "    print(char + \" is a consonant\")\n"
   ]
  },
  {
   "cell_type": "code",
   "execution_count": 4,
   "metadata": {},
   "outputs": [
    {
     "name": "stdout",
     "output_type": "stream",
     "text": [
      "120 is greater than 10\n"
     ]
    }
   ],
   "source": [
    "# To check which number is greater between two number\n",
    "f_num = 120\n",
    "s_num = 10\n",
    "\n",
    "if f_num > s_num:\n",
    "    print(str(f_num) + \" is greater than \" + str(s_num))\n",
    "elif f_num == s_num:\n",
    "    print(str(f_num) + \" is equal to \" + str(s_num))\n",
    "else:\n",
    "    print(str(f_num) + \" is less than \" + str(s_num))"
   ]
  },
  {
   "cell_type": "code",
   "execution_count": 5,
   "metadata": {},
   "outputs": [
    {
     "name": "stdout",
     "output_type": "stream",
     "text": [
      "120\n"
     ]
    }
   ],
   "source": [
    "# To find the factorial of the number\n",
    "num = 5\n",
    "factorial = 1\n",
    "\n",
    "for i in range(1,num + 1):\n",
    "    factorial *=  i\n",
    "\n",
    "print(factorial)"
   ]
  },
  {
   "cell_type": "code",
   "execution_count": null,
   "metadata": {},
   "outputs": [],
   "source": []
  }
 ],
 "metadata": {
  "kernelspec": {
   "display_name": "Python 3",
   "language": "python",
   "name": "python3"
  },
  "language_info": {
   "codemirror_mode": {
    "name": "ipython",
    "version": 3
   },
   "file_extension": ".py",
   "mimetype": "text/x-python",
   "name": "python",
   "nbconvert_exporter": "python",
   "pygments_lexer": "ipython3",
   "version": "3.8.5"
  }
 },
 "nbformat": 4,
 "nbformat_minor": 4
}
